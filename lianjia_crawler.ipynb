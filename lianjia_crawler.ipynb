{
 "cells": [
  {
   "cell_type": "code",
   "execution_count": 1,
   "metadata": {},
   "outputs": [
    {
     "name": "stdout",
     "output_type": "stream",
     "text": [
      "请输入您想抓取多少页面的房源信息「1-100」:5\n",
      "进度1/5...\n",
      "进度2/5...\n",
      "进度3/5...\n",
      "进度4/5...\n",
      "进度5/5...\n",
      "done!\n"
     ]
    }
   ],
   "source": [
    "import requests\n",
    "from bs4 import BeautifulSoup\n",
    "import csv\n",
    "import time\n",
    "\n",
    "headers={\"Cookie\":\"lianjia_uuid=79560b0d-cd37-4b0f-abbd-ea141e680177; sensorsdata2015jssdkcross=%7B%22distinct_id%22%3A%2216bf4f20bd928b-09bf0aab186739-37677e02-1764000-16bf4f20bdbbf3%22%2C%22%24device_id%22%3A%2216bf4f20bd928b-09bf0aab186739-37677e02-1764000-16bf4f20bdbbf3%22%2C%22props%22%3A%7B%22%24latest_traffic_source_type%22%3A%22%E8%87%AA%E7%84%B6%E6%90%9C%E7%B4%A2%E6%B5%81%E9%87%8F%22%2C%22%24latest_referrer%22%3A%22https%3A%2F%2Fwww.google.com%2F%22%2C%22%24latest_referrer_host%22%3A%22www.google.com%22%2C%22%24latest_search_keyword%22%3A%22%E6%9C%AA%E5%8F%96%E5%88%B0%E5%80%BC%22%7D%7D; UM_distinctid=16bf4f21626c4-08d99ecce5fb41-37677e02-1aeaa0-16bf4f2162794b; Hm_lvt_9152f8221cb6243a53c83b956842be8a=1563182635; _ga=GA1.2.1035891004.1563182635; lianjia_ssid=af236632-39b1-452d-aad5-56338590a82b; srcid=eyJ0Ijoie1wiZGF0YVwiOlwiMWRjYjhhODg0NjlhMTE3MDFlYzU4ZWE3OTMxNGQzYjkwNjBmYzY4YmJiNGEzYmEyYjllNjczZjY3Y2RkOWFiNTc2ODE0MGZhNTA4MDU0M2M2NDFhMmE2MmUwYzIxOTc2ZDhiNWJmYTFlNDk0ODE3Y2I4NzE0MDZhMmNhOWFjNzEyYjk0MDE4ZjAxMjFkODRhYzAzNGViZTUyMDkwYzY5OWMxY2ZkZWVjMDFkNTA0YjZiZmMwODZkYWNiNTNmODc2YjdkZDA0OGY5NjJiZjJjNzllNTY3YmJkYmE2NGIwNzkwMzU4ZWU3MjNjODdjNDk4Y2Q4ZjEwOGRiMzU1Yjk2MmYyZWNiNTY1NDlmODNkNzhiZThiODRhYjg4MjRiYTBiNjQwNjg1YjBkNmZhOTJkNTBiM2FmMTExMTQzZDAyMTgyZmU4ZDE0ODI2ZTQ0N2JhZDEzODM4YmYyZjYzMDgwMlwiLFwia2V5X2lkXCI6XCIxXCIsXCJzaWduXCI6XCJiNmJlZTgwYlwifSIsInIiOiJodHRwczovL3NoLmxpYW5qaWEuY29tL3p1ZmFuZy9wZzIvI2NvbnRlbnRMaXN0Iiwib3MiOiJ3ZWIiLCJ2IjoiMC4xIn0=\",\n",
    "        \"User-Agent\":\"Mozilla/5.0 (Macintosh; Intel Mac OS X 10_14_5) AppleWebKit/537.36 (KHTML, like Gecko) Chrome/76.0.3809.132 Safari/537.36\"}\n",
    "\n",
    "csv_header=[\"房源信息\",\"价格\",\"链接\",\"地址\",\"面积\",\"朝向\",\"规格\",\"楼层\",\"品牌\",\"发布时间\",\"亮点\"]\n",
    "with open(\"room_record.csv\",\"w\",encoding=\"utf-8\") as f:\n",
    "    f_csv=csv.writer(f)\n",
    "    f_csv.writerow(csv_header)\n",
    "\n",
    "    n=int(input(\"请输入您想抓取多少页面的房源信息「1-100」:\"))\n",
    "\n",
    "    for x in range(1,n+1):\n",
    "        response = requests.get(f\"https://sh.lianjia.com/zufang/pg{x}/\",headers=headers)\n",
    "        webcontent = response.text\n",
    "\n",
    "        soup = BeautifulSoup(webcontent,'html.parser')\n",
    "        result_list = soup.find_all('div',class_='content__list--item--main')\n",
    "        #print(result_list)\n",
    "        for item in result_list:  \n",
    "            p_data=[]\n",
    "            for part in item('p'):\n",
    "                p_data.append(part.get_text(strip=True))\n",
    "            price = item.find(\"span\",class_=\"content__list--item-price\").get_text(strip=True)\n",
    "            link = item.a['href']\n",
    "            row_data=[p_data[0],price,link]\n",
    "            row_data.extend(p_data[1].split(\"/\"))\n",
    "            row_data.extend(p_data[2:])\n",
    "\n",
    "            f_csv.writerow(row_data)\n",
    "        time.sleep(1)\n",
    "        print(f\"进度{x}/{n}...\")\n",
    "print(\"done!\")"
   ]
  },
  {
   "cell_type": "code",
   "execution_count": null,
   "metadata": {},
   "outputs": [],
   "source": []
  }
 ],
 "metadata": {
  "kernelspec": {
   "display_name": "Python 3",
   "language": "python",
   "name": "python3"
  },
  "language_info": {
   "codemirror_mode": {
    "name": "ipython",
    "version": 3
   },
   "file_extension": ".py",
   "mimetype": "text/x-python",
   "name": "python",
   "nbconvert_exporter": "python",
   "pygments_lexer": "ipython3",
   "version": "3.7.3"
  }
 },
 "nbformat": 4,
 "nbformat_minor": 2
}
